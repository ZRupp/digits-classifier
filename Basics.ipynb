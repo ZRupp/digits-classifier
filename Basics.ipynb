{
 "cells": [
  {
   "cell_type": "markdown",
   "metadata": {},
   "source": [
    "# Classifying Handwritten Digits\n",
    "\n",
    "The aim of this project is to explore image classification and to practice classifying handwritten digits using traditional machine learning models and deep neural networks. As this project is chiefly for my own edification, I'll not necessarily be focusing on maximizing accuracy, but instead on the generalities of image classification and the differences between traditional machine learning models and different deep neural networks.\n",
    "\n",
    "The data I'm using is part of the [UCI Machine Learning Hand-Written Digits Dataset]('http://archive.ics.uci.edu/ml/datasets/Optical+Recognition+of+Handwritten+Digits') which I'll be loading using the [sklearn.datasets.load_digits() function]('https://scikit-learn.org/stable/modules/generated/sklearn.datasets.load_digits.html'). "
   ]
  },
  {
   "cell_type": "markdown",
   "metadata": {},
   "source": [
    "# Importing the data"
   ]
  },
  {
   "cell_type": "code",
   "execution_count": 1,
   "metadata": {},
   "outputs": [
    {
     "data": {
      "text/plain": [
       "dict_keys(['data', 'target', 'target_names', 'images', 'DESCR'])"
      ]
     },
     "execution_count": 1,
     "metadata": {},
     "output_type": "execute_result"
    }
   ],
   "source": [
    "import numpy as np\n",
    "import pandas as pd\n",
    "import matplotlib.pyplot as plt\n",
    "from sklearn.datasets import load_digits\n",
    "%matplotlib inline\n",
    "\n",
    "digits = load_digits()\n",
    "\n",
    "digits.keys()"
   ]
  },
  {
   "cell_type": "code",
   "execution_count": 2,
   "metadata": {},
   "outputs": [
    {
     "data": {
      "text/plain": [
       "1792    9\n",
       "1793    0\n",
       "1794    8\n",
       "1795    9\n",
       "1796    8\n",
       "dtype: int64"
      ]
     },
     "execution_count": 2,
     "metadata": {},
     "output_type": "execute_result"
    }
   ],
   "source": [
    "labels = pd.Series(digits['target'])\n",
    "labels.tail()"
   ]
  },
  {
   "cell_type": "code",
   "execution_count": 3,
   "metadata": {},
   "outputs": [
    {
     "name": "stdout",
     "output_type": "stream",
     "text": [
      "(1797, 64)\n"
     ]
    },
    {
     "data": {
      "text/html": [
       "<div>\n",
       "<style scoped>\n",
       "    .dataframe tbody tr th:only-of-type {\n",
       "        vertical-align: middle;\n",
       "    }\n",
       "\n",
       "    .dataframe tbody tr th {\n",
       "        vertical-align: top;\n",
       "    }\n",
       "\n",
       "    .dataframe thead th {\n",
       "        text-align: right;\n",
       "    }\n",
       "</style>\n",
       "<table border=\"1\" class=\"dataframe\">\n",
       "  <thead>\n",
       "    <tr style=\"text-align: right;\">\n",
       "      <th></th>\n",
       "      <th>0</th>\n",
       "      <th>1</th>\n",
       "      <th>2</th>\n",
       "      <th>3</th>\n",
       "      <th>4</th>\n",
       "      <th>5</th>\n",
       "      <th>6</th>\n",
       "      <th>7</th>\n",
       "      <th>8</th>\n",
       "      <th>9</th>\n",
       "      <th>...</th>\n",
       "      <th>54</th>\n",
       "      <th>55</th>\n",
       "      <th>56</th>\n",
       "      <th>57</th>\n",
       "      <th>58</th>\n",
       "      <th>59</th>\n",
       "      <th>60</th>\n",
       "      <th>61</th>\n",
       "      <th>62</th>\n",
       "      <th>63</th>\n",
       "    </tr>\n",
       "  </thead>\n",
       "  <tbody>\n",
       "    <tr>\n",
       "      <th>0</th>\n",
       "      <td>0.0</td>\n",
       "      <td>0.0</td>\n",
       "      <td>5.0</td>\n",
       "      <td>13.0</td>\n",
       "      <td>9.0</td>\n",
       "      <td>1.0</td>\n",
       "      <td>0.0</td>\n",
       "      <td>0.0</td>\n",
       "      <td>0.0</td>\n",
       "      <td>0.0</td>\n",
       "      <td>...</td>\n",
       "      <td>0.0</td>\n",
       "      <td>0.0</td>\n",
       "      <td>0.0</td>\n",
       "      <td>0.0</td>\n",
       "      <td>6.0</td>\n",
       "      <td>13.0</td>\n",
       "      <td>10.0</td>\n",
       "      <td>0.0</td>\n",
       "      <td>0.0</td>\n",
       "      <td>0.0</td>\n",
       "    </tr>\n",
       "    <tr>\n",
       "      <th>1</th>\n",
       "      <td>0.0</td>\n",
       "      <td>0.0</td>\n",
       "      <td>0.0</td>\n",
       "      <td>12.0</td>\n",
       "      <td>13.0</td>\n",
       "      <td>5.0</td>\n",
       "      <td>0.0</td>\n",
       "      <td>0.0</td>\n",
       "      <td>0.0</td>\n",
       "      <td>0.0</td>\n",
       "      <td>...</td>\n",
       "      <td>0.0</td>\n",
       "      <td>0.0</td>\n",
       "      <td>0.0</td>\n",
       "      <td>0.0</td>\n",
       "      <td>0.0</td>\n",
       "      <td>11.0</td>\n",
       "      <td>16.0</td>\n",
       "      <td>10.0</td>\n",
       "      <td>0.0</td>\n",
       "      <td>0.0</td>\n",
       "    </tr>\n",
       "    <tr>\n",
       "      <th>2</th>\n",
       "      <td>0.0</td>\n",
       "      <td>0.0</td>\n",
       "      <td>0.0</td>\n",
       "      <td>4.0</td>\n",
       "      <td>15.0</td>\n",
       "      <td>12.0</td>\n",
       "      <td>0.0</td>\n",
       "      <td>0.0</td>\n",
       "      <td>0.0</td>\n",
       "      <td>0.0</td>\n",
       "      <td>...</td>\n",
       "      <td>5.0</td>\n",
       "      <td>0.0</td>\n",
       "      <td>0.0</td>\n",
       "      <td>0.0</td>\n",
       "      <td>0.0</td>\n",
       "      <td>3.0</td>\n",
       "      <td>11.0</td>\n",
       "      <td>16.0</td>\n",
       "      <td>9.0</td>\n",
       "      <td>0.0</td>\n",
       "    </tr>\n",
       "    <tr>\n",
       "      <th>3</th>\n",
       "      <td>0.0</td>\n",
       "      <td>0.0</td>\n",
       "      <td>7.0</td>\n",
       "      <td>15.0</td>\n",
       "      <td>13.0</td>\n",
       "      <td>1.0</td>\n",
       "      <td>0.0</td>\n",
       "      <td>0.0</td>\n",
       "      <td>0.0</td>\n",
       "      <td>8.0</td>\n",
       "      <td>...</td>\n",
       "      <td>9.0</td>\n",
       "      <td>0.0</td>\n",
       "      <td>0.0</td>\n",
       "      <td>0.0</td>\n",
       "      <td>7.0</td>\n",
       "      <td>13.0</td>\n",
       "      <td>13.0</td>\n",
       "      <td>9.0</td>\n",
       "      <td>0.0</td>\n",
       "      <td>0.0</td>\n",
       "    </tr>\n",
       "    <tr>\n",
       "      <th>4</th>\n",
       "      <td>0.0</td>\n",
       "      <td>0.0</td>\n",
       "      <td>0.0</td>\n",
       "      <td>1.0</td>\n",
       "      <td>11.0</td>\n",
       "      <td>0.0</td>\n",
       "      <td>0.0</td>\n",
       "      <td>0.0</td>\n",
       "      <td>0.0</td>\n",
       "      <td>0.0</td>\n",
       "      <td>...</td>\n",
       "      <td>0.0</td>\n",
       "      <td>0.0</td>\n",
       "      <td>0.0</td>\n",
       "      <td>0.0</td>\n",
       "      <td>0.0</td>\n",
       "      <td>2.0</td>\n",
       "      <td>16.0</td>\n",
       "      <td>4.0</td>\n",
       "      <td>0.0</td>\n",
       "      <td>0.0</td>\n",
       "    </tr>\n",
       "  </tbody>\n",
       "</table>\n",
       "<p>5 rows × 64 columns</p>\n",
       "</div>"
      ],
      "text/plain": [
       "    0    1    2     3     4     5    6    7    8    9  ...    54   55   56  \\\n",
       "0  0.0  0.0  5.0  13.0   9.0   1.0  0.0  0.0  0.0  0.0 ...   0.0  0.0  0.0   \n",
       "1  0.0  0.0  0.0  12.0  13.0   5.0  0.0  0.0  0.0  0.0 ...   0.0  0.0  0.0   \n",
       "2  0.0  0.0  0.0   4.0  15.0  12.0  0.0  0.0  0.0  0.0 ...   5.0  0.0  0.0   \n",
       "3  0.0  0.0  7.0  15.0  13.0   1.0  0.0  0.0  0.0  8.0 ...   9.0  0.0  0.0   \n",
       "4  0.0  0.0  0.0   1.0  11.0   0.0  0.0  0.0  0.0  0.0 ...   0.0  0.0  0.0   \n",
       "\n",
       "    57   58    59    60    61   62   63  \n",
       "0  0.0  6.0  13.0  10.0   0.0  0.0  0.0  \n",
       "1  0.0  0.0  11.0  16.0  10.0  0.0  0.0  \n",
       "2  0.0  0.0   3.0  11.0  16.0  9.0  0.0  \n",
       "3  0.0  7.0  13.0  13.0   9.0  0.0  0.0  \n",
       "4  0.0  0.0   2.0  16.0   4.0  0.0  0.0  \n",
       "\n",
       "[5 rows x 64 columns]"
      ]
     },
     "execution_count": 3,
     "metadata": {},
     "output_type": "execute_result"
    }
   ],
   "source": [
    "data = pd.DataFrame(digits['data'])\n",
    "print(data.shape)\n",
    "data.head()"
   ]
  },
  {
   "cell_type": "code",
   "execution_count": 4,
   "metadata": {},
   "outputs": [
    {
     "data": {
      "image/png": "[encoded data removed]",
      "text/plain": [
       "<Figure size 720x360 with 8 Axes>"
      ]
     },
     "metadata": {
      "needs_background": "light"
     },
     "output_type": "display_data"
    }
   ],
   "source": [
    "image_rows = [[0, 100, 200, 300], [1000, 1100, 1200, 1300]]\n",
    "fig, axes = plt.subplots(ncols=4, nrows=2, figsize=(10,5))\n",
    "\n",
    "for i in range(len(image_rows)):\n",
    "    for j in range(len(image_rows[i])):\n",
    "        image = data.iloc[image_rows[i][j]]\n",
    "        np_image = image.values.reshape(8,8)\n",
    "        axes[i, j].imshow(np_image, cmap='gray_r')\n",
    "        "
   ]
  },
  {
   "cell_type": "markdown",
   "metadata": {},
   "source": [
    "The data consists of 1797 images (8 x 8 pixels) of handwritten digits, each of which is represented as a row of 64 pixel values. As you can see from the images above, the low resolution may make classification difficult; a human would even struggle at this resolution. One of the reasons the images are of such low resolution is to reduce computation time. There are, after all, 126,656 data points in the dataset and a sizable number of features. A relatively small increase in resolution, say to 12 x 12 pixels, would result in 144 features and a total of 258,768 data points. This is clearly one of the difficulties involved in image classification. Increasing resolution would likely increase accuracy, but the computational cost also skyrockets."
   ]
  },
  {
   "cell_type": "markdown",
   "metadata": {},
   "source": [
    "# Classifying with K-Nearest Neighbors"
   ]
  },
  {
   "cell_type": "code",
   "execution_count": 5,
   "metadata": {},
   "outputs": [],
   "source": [
    "# 50% of data will be our train set and 50% will be our test set.\n",
    "threshold = int(data.shape[0]/2)\n",
    "\n",
    "train_features = data.iloc[:threshold]\n",
    "test_features = data.iloc[threshold:]\n",
    "train_labels = labels.iloc[:threshold]\n",
    "test_labels = labels.iloc[threshold:]"
   ]
  },
  {
   "cell_type": "code",
   "execution_count": 6,
   "metadata": {},
   "outputs": [
    {
     "data": {
      "text/plain": [
       "0.9621665429349171"
      ]
     },
     "execution_count": 6,
     "metadata": {},
     "output_type": "execute_result"
    }
   ],
   "source": [
    "from sklearn.neighbors import KNeighborsClassifier\n",
    "from sklearn.model_selection import cross_val_score, KFold\n",
    "from sklearn.metrics import accuracy_score\n",
    "\n",
    "def train_knn(features, labels, k=5):\n",
    "    '''\n",
    "    Trains a k-nearest neighbors classifier\n",
    "    Returns trained model\n",
    "    \n",
    "    features: train features\n",
    "    labels: train target\n",
    "    k: number of neighbors\n",
    "    '''\n",
    "    \n",
    "    knn = KNeighborsClassifier(n_neighbors=k)\n",
    "    knn.fit(features, labels)\n",
    "    \n",
    "    return knn\n",
    "\n",
    "def test(model, features, labels):\n",
    "    '''\n",
    "    Tests model\n",
    "    Returns accuracy score\n",
    "    \n",
    "    model: fitted model\n",
    "    features: test features\n",
    "    labels: test labels\n",
    "    '''\n",
    "    \n",
    "    predictions = model.predict(features)\n",
    "    \n",
    "    accuracy = accuracy_score(labels, predictions)\n",
    "    \n",
    "    return accuracy\n",
    "\n",
    "def cross_validate(k=5, n=4):\n",
    "    '''\n",
    "    Trains, tests and cross-validates model. \n",
    "    Returns accuracy score\n",
    "    \n",
    "    k: number of neighbors for model\n",
    "    n: number of number of folds\n",
    "    '''\n",
    "    \n",
    "    accuracies = list()\n",
    "    \n",
    "    kf = KFold(n, random_state=1)\n",
    "    \n",
    "    for train_idx, test_idx in kf.split(data):\n",
    "        train_features, train_labels = data.iloc[train_idx], labels.iloc[train_idx]\n",
    "        test_features, test_labels = data.iloc[test_idx], labels.iloc[test_idx]\n",
    "        knn = train_knn(train_features, train_labels, k)\n",
    "        accuracies.append(test(knn, test_features, test_labels))\n",
    "    \n",
    "    # I'm leaving this commented out line of code to show how easily the above is accomplished\n",
    "    # with the sklearn.model_selection.cross_val_score() function. Note also that the helper functions\n",
    "    # aren't necessary with cross_val_score(). The biggest downside is that it's somewhat cryptic\n",
    "    # unless you're familiar with the cross_val_score() function. Note I would need to instantiate \n",
    "    # an evaluator before running the cross_val_score() function.\n",
    "    \n",
    "    #accuracy = cross_val_score(knn, data, labels, scoring='accuracy', cv=kf)\n",
    "    \n",
    "    return np.mean(accuracies)\n",
    "    \n",
    "cross_validate()\n",
    "    "
   ]
  },
  {
   "cell_type": "code",
   "execution_count": 7,
   "metadata": {},
   "outputs": [
    {
     "name": "stdout",
     "output_type": "stream",
     "text": [
      "[0.9616010888393962, 0.9621665429349171, 0.9571578817124474, 0.9527047760455333, 0.9532628062360802, 0.9499232863152685, 0.9482566196486019]\n"
     ]
    },
    {
     "data": {
      "text/plain": [
       "Text(0, 0.5, 'Accuracy')"
      ]
     },
     "execution_count": 7,
     "metadata": {},
     "output_type": "execute_result"
    },
    {
     "data": {
      "image/png": "[encoded data removed]",
      "text/plain": [
       "<Figure size 720x360 with 1 Axes>"
      ]
     },
     "metadata": {
      "needs_background": "light"
     },
     "output_type": "display_data"
    }
   ],
   "source": [
    "k_vals = np.arange(2, 23, 3)\n",
    "k_accuracies = list()\n",
    "\n",
    "for k in k_vals:\n",
    "    k_accuracies.append(cross_validate(k))\n",
    "\n",
    "print(k_accuracies)    \n",
    "plt.figure(figsize=(10,5))\n",
    "plt.plot(k_vals, k_accuracies)\n",
    "plt.xticks(k_vals)\n",
    "plt.title('Mean Accuracy vs. k')\n",
    "plt.xlabel('k')\n",
    "plt.ylabel('Accuracy')"
   ]
  },
  {
   "cell_type": "markdown",
   "metadata": {},
   "source": [
    "The above graph demonstrates that increasing the number of neighbors for the k-nearest neighbors classifier reduces accuracy, which makes sense; if we tell a child that a five and a seven are close enough to a six, that child may inaccurately classify fives and sevens as sixes. This is of course an oversimplification of what increasing the number of neighbors does to the classifier, but it nonetheless illustrates the point. Keeping with this illustration, having too low a number of neighbors would also present problems; telling the child that only a five can contain a five could potentially make it difficult for the child to recognize a five in the number fifty or twenty-five, for example."
   ]
  },
  {
   "cell_type": "code",
   "execution_count": 8,
   "metadata": {},
   "outputs": [
    {
     "name": "stdout",
     "output_type": "stream",
     "text": [
      "Holdout validation:\n",
      "Neighbors: 2\n",
      "Time: 0.09575915336608887\n",
      "\n",
      "4-fold cross validation:\n",
      "Neighbors: 2\n",
      "Time: 0.29045820236206055\n",
      "\n",
      "Holdout validation:\n",
      "Neighbors: 5\n",
      "Time: 0.08875083923339844\n",
      "\n",
      "4-fold cross validation:\n",
      "Neighbors: 5\n",
      "Time: 0.30978965759277344\n",
      "\n",
      "Holdout validation:\n",
      "Neighbors: 8\n",
      "Time: 0.11112427711486816\n",
      "\n",
      "4-fold cross validation:\n",
      "Neighbors: 8\n",
      "Time: 0.3896043300628662\n",
      "\n",
      "Holdout validation:\n",
      "Neighbors: 11\n",
      "Time: 0.10695028305053711\n",
      "\n",
      "4-fold cross validation:\n",
      "Neighbors: 11\n",
      "Time: 0.3708508014678955\n",
      "\n",
      "Holdout validation:\n",
      "Neighbors: 14\n",
      "Time: 0.1062307357788086\n",
      "\n",
      "4-fold cross validation:\n",
      "Neighbors: 14\n",
      "Time: 0.37112903594970703\n",
      "\n",
      "Holdout validation:\n",
      "Neighbors: 17\n",
      "Time: 0.11366128921508789\n",
      "\n",
      "4-fold cross validation:\n",
      "Neighbors: 17\n",
      "Time: 0.37650179862976074\n",
      "\n",
      "Holdout validation:\n",
      "Neighbors: 20\n",
      "Time: 0.10773444175720215\n",
      "\n",
      "4-fold cross validation:\n",
      "Neighbors: 20\n",
      "Time: 0.40145182609558105\n",
      "\n"
     ]
    }
   ],
   "source": [
    "import time\n",
    "\n",
    "# Let's see how long it takes our k-nearest neighbors model to run\n",
    "# We'll vary our k-value and run it with holdout validation and then with 4-fold cross validation\n",
    "\n",
    "for k in k_vals:\n",
    "    start = time.time()\n",
    "    model = train_knn(train_features, train_labels, k)\n",
    "    test(model, test_features, test_labels)\n",
    "    end = time.time()\n",
    "    print('Holdout validation:\\nNeighbors: {0}\\nTime: {1}\\n'.format(k, end - start))\n",
    "    start = time.time()\n",
    "    cross_validate(k)\n",
    "    end = time.time()\n",
    "    print('4-fold cross validation:\\nNeighbors: {0}\\nTime: {1}\\n'.format(k, end - start))\n"
   ]
  },
  {
   "cell_type": "markdown",
   "metadata": {},
   "source": [
    "Holdout validation is obviously much faster since there aren't any loops inside our functions. Just to be thorough, let's see how fast the cross_val_score() function runs."
   ]
  },
  {
   "cell_type": "code",
   "execution_count": 9,
   "metadata": {},
   "outputs": [
    {
     "name": "stdout",
     "output_type": "stream",
     "text": [
      "4-fold cross validation (cross_val_score()):\n",
      "Neighbors: 2\n",
      "Time: 0.3050198554992676\n",
      "\n",
      "4-fold cross validation (cross_val_score()):\n",
      "Neighbors: 5\n",
      "Time: 0.30359864234924316\n",
      "\n",
      "4-fold cross validation (cross_val_score()):\n",
      "Neighbors: 8\n",
      "Time: 0.2966313362121582\n",
      "\n",
      "4-fold cross validation (cross_val_score()):\n",
      "Neighbors: 11\n",
      "Time: 0.31049513816833496\n",
      "\n",
      "4-fold cross validation (cross_val_score()):\n",
      "Neighbors: 14\n",
      "Time: 0.3010690212249756\n",
      "\n",
      "4-fold cross validation (cross_val_score()):\n",
      "Neighbors: 17\n",
      "Time: 0.2976062297821045\n",
      "\n",
      "4-fold cross validation (cross_val_score()):\n",
      "Neighbors: 20\n",
      "Time: 0.29741811752319336\n",
      "\n"
     ]
    }
   ],
   "source": [
    "for k in k_vals:\n",
    "    start = time.time()\n",
    "    knn = KNeighborsClassifier()\n",
    "    kf = KFold(4, random_state=1)\n",
    "    cross_val_score(knn, data, labels, scoring='accuracy', cv=kf)\n",
    "    end = time.time()\n",
    "    print('4-fold cross validation (cross_val_score()):\\nNeighbors: {0}\\nTime: {1}\\n'.format(k, end - start))"
   ]
  },
  {
   "cell_type": "markdown",
   "metadata": {},
   "source": [
    "As expected, the sklearn.model_selection.cross_val_score() function is generally faster than our k-fold cross validation function. This doesn't necessarily mean that it's always better to use the sklearn function. If readability is more important than performance, for example, we may want to define our own function as I've done above so that the validation steps are obvious. If performance is more important, the sklearn function may be more desirable, though admittedly the performance improvement is only noticeable when using a large number of neighbors."
   ]
  },
  {
   "cell_type": "markdown",
   "metadata": {},
   "source": [
    "# Classifying with Neural Networks\n",
    "## Single-layer Perceptron"
   ]
  },
  {
   "cell_type": "code",
   "execution_count": 10,
   "metadata": {},
   "outputs": [],
   "source": [
    "from sklearn.neural_network import MLPClassifier\n",
    "\n",
    "# Modify above train function to accomodate either model\n",
    "def train_model(model_name, features, labels, k=5, h=(4,) , f='relu'):\n",
    "    '''\n",
    "    Trains a k-nearest neighbors or multi-layer perceptron classifier\n",
    "    Returns trained model\n",
    "    \n",
    "    model: string representing desired model ('knn' or 'mpl')\n",
    "    features: train features\n",
    "    labels: train target\n",
    "    k: number of neighbors (default is 5)\n",
    "    h: tuple for hidden layers. default example: (4,) means 4 neurons and 1 layer \n",
    "       and (4, 4,) means two layers with four neurons each.\n",
    "    f: activation function (default is relu)\n",
    "    '''\n",
    "    \n",
    "    if model_name == 'knn':\n",
    "        knn = KNeighborsClassifier(n_neighbors=k)\n",
    "        knn.fit(features, labels)\n",
    "    \n",
    "        return knn\n",
    "    \n",
    "    elif model_name == 'mlp':\n",
    "        mlp = MLPClassifier(h, f, random_state=1)\n",
    "        mlp.fit(features, labels)\n",
    "        \n",
    "        return mlp\n",
    "    \n",
    "    else:\n",
    "        \n",
    "        return \"Model not specified: expected 'knn' or 'mlp'\"\n",
    "    \n",
    "# Modify cross_validate function to accommodate both models    \n",
    "def cross_validate(model_name, k=5, folds=4, h=(4,), f='relu'):\n",
    "    '''\n",
    "    Trains, tests and cross-validates model. \n",
    "    Returns accuracy score\n",
    "    \n",
    "    model_name: string representing model to use ('knn' or 'mlp')\n",
    "    k: number of neighbors for knn model\n",
    "    folds: number of number of folds\n",
    "    h: tuple for hidden layers. default example: (4,) means 4 neurons and 1 layer \n",
    "       and (4, 4) means two layers with four neurons each.\n",
    "    f: activation function (default relu)\n",
    "    '''\n",
    "    \n",
    "    accuracies = list()\n",
    "    \n",
    "    kf = KFold(folds, random_state=1)\n",
    "    \n",
    "    for train_idx, test_idx in kf.split(data):\n",
    "        train_features, train_labels = data.iloc[train_idx], labels.iloc[train_idx]\n",
    "        test_features, test_labels = data.iloc[test_idx], labels.iloc[test_idx]\n",
    "        model = train_model(model_name, train_features, train_labels, k, h, f)\n",
    "        accuracies.append(test(model, test_features, test_labels))\n",
    "    \n",
    "    return np.mean(accuracies)\n"
   ]
  },
  {
   "cell_type": "code",
   "execution_count": 11,
   "metadata": {},
   "outputs": [
    {
     "name": "stderr",
     "output_type": "stream",
     "text": [
      "/home/zrupp/anaconda3/lib/python3.7/site-packages/sklearn/neural_network/multilayer_perceptron.py:562: ConvergenceWarning: Stochastic Optimizer: Maximum iterations (200) reached and the optimization hasn't converged yet.\n",
      "  % self.max_iter, ConvergenceWarning)\n",
      "/home/zrupp/anaconda3/lib/python3.7/site-packages/sklearn/neural_network/multilayer_perceptron.py:562: ConvergenceWarning: Stochastic Optimizer: Maximum iterations (200) reached and the optimization hasn't converged yet.\n",
      "  % self.max_iter, ConvergenceWarning)\n",
      "/home/zrupp/anaconda3/lib/python3.7/site-packages/sklearn/neural_network/multilayer_perceptron.py:562: ConvergenceWarning: Stochastic Optimizer: Maximum iterations (200) reached and the optimization hasn't converged yet.\n",
      "  % self.max_iter, ConvergenceWarning)\n",
      "/home/zrupp/anaconda3/lib/python3.7/site-packages/sklearn/neural_network/multilayer_perceptron.py:562: ConvergenceWarning: Stochastic Optimizer: Maximum iterations (200) reached and the optimization hasn't converged yet.\n",
      "  % self.max_iter, ConvergenceWarning)\n"
     ]
    },
    {
     "name": "stdout",
     "output_type": "stream",
     "text": [
      "Single-layer Perceptron:\n",
      "Neurons: 8\n",
      "Time: 2.866133451461792\n"
     ]
    },
    {
     "name": "stderr",
     "output_type": "stream",
     "text": [
      "/home/zrupp/anaconda3/lib/python3.7/site-packages/sklearn/neural_network/multilayer_perceptron.py:562: ConvergenceWarning: Stochastic Optimizer: Maximum iterations (200) reached and the optimization hasn't converged yet.\n",
      "  % self.max_iter, ConvergenceWarning)\n",
      "/home/zrupp/anaconda3/lib/python3.7/site-packages/sklearn/neural_network/multilayer_perceptron.py:562: ConvergenceWarning: Stochastic Optimizer: Maximum iterations (200) reached and the optimization hasn't converged yet.\n",
      "  % self.max_iter, ConvergenceWarning)\n",
      "/home/zrupp/anaconda3/lib/python3.7/site-packages/sklearn/neural_network/multilayer_perceptron.py:562: ConvergenceWarning: Stochastic Optimizer: Maximum iterations (200) reached and the optimization hasn't converged yet.\n",
      "  % self.max_iter, ConvergenceWarning)\n",
      "/home/zrupp/anaconda3/lib/python3.7/site-packages/sklearn/neural_network/multilayer_perceptron.py:562: ConvergenceWarning: Stochastic Optimizer: Maximum iterations (200) reached and the optimization hasn't converged yet.\n",
      "  % self.max_iter, ConvergenceWarning)\n"
     ]
    },
    {
     "name": "stdout",
     "output_type": "stream",
     "text": [
      "Single-layer Perceptron:\n",
      "Neurons: 16\n",
      "Time: 3.1624584197998047\n"
     ]
    },
    {
     "name": "stderr",
     "output_type": "stream",
     "text": [
      "/home/zrupp/anaconda3/lib/python3.7/site-packages/sklearn/neural_network/multilayer_perceptron.py:562: ConvergenceWarning: Stochastic Optimizer: Maximum iterations (200) reached and the optimization hasn't converged yet.\n",
      "  % self.max_iter, ConvergenceWarning)\n",
      "/home/zrupp/anaconda3/lib/python3.7/site-packages/sklearn/neural_network/multilayer_perceptron.py:562: ConvergenceWarning: Stochastic Optimizer: Maximum iterations (200) reached and the optimization hasn't converged yet.\n",
      "  % self.max_iter, ConvergenceWarning)\n",
      "/home/zrupp/anaconda3/lib/python3.7/site-packages/sklearn/neural_network/multilayer_perceptron.py:562: ConvergenceWarning: Stochastic Optimizer: Maximum iterations (200) reached and the optimization hasn't converged yet.\n",
      "  % self.max_iter, ConvergenceWarning)\n",
      "/home/zrupp/anaconda3/lib/python3.7/site-packages/sklearn/neural_network/multilayer_perceptron.py:562: ConvergenceWarning: Stochastic Optimizer: Maximum iterations (200) reached and the optimization hasn't converged yet.\n",
      "  % self.max_iter, ConvergenceWarning)\n"
     ]
    },
    {
     "name": "stdout",
     "output_type": "stream",
     "text": [
      "Single-layer Perceptron:\n",
      "Neurons: 32\n",
      "Time: 3.6105034351348877\n",
      "Single-layer Perceptron:\n",
      "Neurons: 64\n",
      "Time: 3.571265697479248\n",
      "Single-layer Perceptron:\n",
      "Neurons: 128\n",
      "Time: 3.937432289123535\n",
      "Single-layer Perceptron:\n",
      "Neurons: 256\n",
      "Time: 4.6487038135528564\n"
     ]
    }
   ],
   "source": [
    "n_neurons = [8, 16, 32, 64, 128, 256]\n",
    "\n",
    "n_accuracies = []\n",
    "for n in n_neurons:\n",
    "    # Let's time this just for fun\n",
    "    start = time.time()\n",
    "    n_accuracies.append(cross_validate('mlp', h=(n,)))\n",
    "    end = time.time()\n",
    "    print('Single-layer Perceptron:\\nNeurons: {0}\\nTime: {1}'.format(n, end - start))\n",
    "    "
   ]
  },
  {
   "cell_type": "code",
   "execution_count": 12,
   "metadata": {},
   "outputs": [
    {
     "name": "stdout",
     "output_type": "stream",
     "text": [
      "[0.7790856223707003, 0.9198750309329374, 0.9237701064093046, 0.9343268992823559, 0.9443516456322693, 0.9521405592675081]\n"
     ]
    },
    {
     "data": {
      "text/plain": [
       "Text(0, 0.5, 'Accuracy')"
      ]
     },
     "execution_count": 12,
     "metadata": {},
     "output_type": "execute_result"
    },
    {
     "data": {
      "image/png": "[encoded data removed]",
      "text/plain": [
       "<Figure size 720x360 with 1 Axes>"
      ]
     },
     "metadata": {
      "needs_background": "light"
     },
     "output_type": "display_data"
    }
   ],
   "source": [
    "print(n_accuracies)\n",
    "plt.figure(figsize=(10,5))\n",
    "plt.plot(n_neurons, n_accuracies)\n",
    "plt.xticks(n_neurons)\n",
    "plt.title('Mean Accuracy vs. Neurons\\nin Single-layer Perceptron')\n",
    "plt.xlabel('Neurons')\n",
    "plt.ylabel('Accuracy')"
   ]
  },
  {
   "cell_type": "markdown",
   "metadata": {},
   "source": [
    "Those models all took a long time to run, which is to be expected, considering the computation involved. The accuracy improves substantially with the number of neurons, but I don't see any benefit to using a single-layer perceptron over k-nearest neighbors. The best performance occurred when using 64 neurons, though there is a chance this is overfitting. After that, performance remains fairly stagnant."
   ]
  },
  {
   "cell_type": "markdown",
   "metadata": {},
   "source": [
    "## Multi-layer Perceptron"
   ]
  },
  {
   "cell_type": "code",
   "execution_count": 13,
   "metadata": {},
   "outputs": [],
   "source": [
    "neuron_arches = [\n",
    "    (64,),\n",
    "    (64, 64)\n",
    "]\n",
    "\n",
    "n_accuracies = []\n",
    "\n",
    "for arch in neuron_arches:\n",
    "    n_accuracies.append(cross_validate('mlp', h=arch))\n",
    "    \n"
   ]
  },
  {
   "cell_type": "code",
   "execution_count": 14,
   "metadata": {},
   "outputs": [
    {
     "name": "stdout",
     "output_type": "stream",
     "text": [
      "[0.9343268992823559, 0.9421195248700817]\n"
     ]
    },
    {
     "data": {
      "text/plain": [
       "Text(0, 0.5, 'Accuracy')"
      ]
     },
     "execution_count": 14,
     "metadata": {},
     "output_type": "execute_result"
    },
    {
     "data": {
      "image/png": "[encoded data removed]",
      "text/plain": [
       "<Figure size 720x360 with 1 Axes>"
      ]
     },
     "metadata": {
      "needs_background": "light"
     },
     "output_type": "display_data"
    }
   ],
   "source": [
    "print(n_accuracies)\n",
    "plt.figure(figsize=(10,5))\n",
    "plt.plot([1, 2], n_accuracies)\n",
    "plt.xticks([1, 2])\n",
    "plt.title('Mean Accuracy vs. Perceptron Layers\\n with 64 Neurons')\n",
    "plt.xlabel('Layers')\n",
    "plt.ylabel('Accuracy')"
   ]
  },
  {
   "cell_type": "markdown",
   "metadata": {},
   "source": [
    "Increasing layers increased our predictions by approximately 1%. Let's see how two layers perform with more neurons."
   ]
  },
  {
   "cell_type": "code",
   "execution_count": 15,
   "metadata": {},
   "outputs": [],
   "source": [
    "neuron_arches = [\n",
    "    (64, 64),\n",
    "    (128, 128),\n",
    "    (256, 256)\n",
    "]\n",
    "\n",
    "n_accuracies = []\n",
    "\n",
    "for arch in neuron_arches:\n",
    "    n_accuracies.append(cross_validate('mlp', h=arch))"
   ]
  },
  {
   "cell_type": "code",
   "execution_count": 16,
   "metadata": {},
   "outputs": [
    {
     "name": "stdout",
     "output_type": "stream",
     "text": [
      "[0.9421195248700817, 0.9515775798069784, 0.9560356347438752]\n"
     ]
    },
    {
     "data": {
      "text/plain": [
       "Text(0, 0.5, 'Accuracy')"
      ]
     },
     "execution_count": 16,
     "metadata": {},
     "output_type": "execute_result"
    },
    {
     "data": {
      "image/png": "[encoded data removed]",
      "text/plain": [
       "<Figure size 720x360 with 1 Axes>"
      ]
     },
     "metadata": {
      "needs_background": "light"
     },
     "output_type": "display_data"
    }
   ],
   "source": [
    "print(n_accuracies)\n",
    "plt.figure(figsize=(10,5))\n",
    "plt.plot([64, 128, 256], n_accuracies)\n",
    "plt.xticks([64, 128, 256])\n",
    "plt.title('Mean Accuracy vs. Dual-Layer Perceptron\\nwith Varying Neurons')\n",
    "plt.xlabel('Neurons')\n",
    "plt.ylabel('Accuracy')"
   ]
  },
  {
   "cell_type": "markdown",
   "metadata": {},
   "source": [
    "Though the performance of the two-layer perceptron with 64 neurons is slightly lower than its single-layer counterpart, we do see a noticeable increase to 95% accuracy when we increase the neuron count to 128. It's important to note that increasing the number of hidden layers generally also increases overfitting. Increasing the number of folds in our cross validation helps counteract this overfitting, so I'm not concerned that this model won't generalize well to external data."
   ]
  },
  {
   "cell_type": "markdown",
   "metadata": {},
   "source": [
    "## Combatting Multi-Layer Perceptron Overfitting by Increasing k-folds"
   ]
  },
  {
   "cell_type": "code",
   "execution_count": 17,
   "metadata": {
    "scrolled": true
   },
   "outputs": [],
   "source": [
    "neuron_arches = [\n",
    "    (64, 64, 64),\n",
    "    (128, 128, 128),\n",
    "    (256, 256, 256)\n",
    "]\n",
    "\n",
    "n_accuracies = []\n",
    "\n",
    "for arch in neuron_arches:\n",
    "    n_accuracies.append(cross_validate('mlp', h=arch, folds=6))\n"
   ]
  },
  {
   "cell_type": "code",
   "execution_count": 18,
   "metadata": {},
   "outputs": [
    {
     "data": {
      "text/plain": [
       "Text(0, 0.5, 'Accuracy')"
      ]
     },
     "execution_count": 18,
     "metadata": {},
     "output_type": "execute_result"
    },
    {
     "data": {
      "image/png": "[encoded data removed]",
      "text/plain": [
       "<Figure size 720x360 with 1 Axes>"
      ]
     },
     "metadata": {
      "needs_background": "light"
     },
     "output_type": "display_data"
    }
   ],
   "source": [
    "plt.figure(figsize=(10,5))\n",
    "plt.plot([64, 128, 256], n_accuracies)\n",
    "plt.xticks([64, 128, 256])\n",
    "plt.title('Mean Accuracy vs. Tri-Layer Perceptron\\nwith Varying Neurons and 6 Folds')\n",
    "plt.xlabel('Neurons')\n",
    "plt.ylabel('Accuracy')"
   ]
  },
  {
   "cell_type": "code",
   "execution_count": 19,
   "metadata": {},
   "outputs": [
    {
     "name": "stdout",
     "output_type": "stream",
     "text": [
      "[0.9504812337421034, 0.9538071348940914, 0.9577090301003346]\n"
     ]
    }
   ],
   "source": [
    "print(n_accuracies)"
   ]
  },
  {
   "cell_type": "markdown",
   "metadata": {},
   "source": [
    "Increasing the number of hidden layers increases the accuracy of our predictions, as expected, and increasing the number of folds seems to do a good job of preventing overfitting."
   ]
  },
  {
   "cell_type": "markdown",
   "metadata": {},
   "source": [
    "# Next Steps\n",
    "\n",
    "1. Try other models:\n",
    "    a. Decision Tree\n",
    "    b. Random Forest\n",
    "2. Write up summary of different model effectiveness with data to support conclusions\n",
    "3. Experiment with different activation functions to see impact on prediction accuracy\n",
    "4. Research techniques for visualizing weights in neural network models and add visualization pipeline\n",
    "5. Remove timing examples and save that for another project?"
   ]
  },
  {
   "cell_type": "code",
   "execution_count": null,
   "metadata": {},
   "outputs": [],
   "source": []
  }
 ],
 "metadata": {
  "kernelspec": {
   "display_name": "Python 3",
   "language": "python",
   "name": "python3"
  },
  "language_info": {
   "codemirror_mode": {
    "name": "ipython",
    "version": 3
   },
   "file_extension": ".py",
   "mimetype": "text/x-python",
   "name": "python",
   "nbconvert_exporter": "python",
   "pygments_lexer": "ipython3",
   "version": "3.7.1"
  }
 },
 "nbformat": 4,
 "nbformat_minor": 2
}
